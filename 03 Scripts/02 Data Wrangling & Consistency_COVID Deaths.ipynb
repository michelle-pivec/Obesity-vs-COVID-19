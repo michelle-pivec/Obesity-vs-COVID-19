{
 "cells": [
  {
   "cell_type": "markdown",
   "id": "bc3a076f",
   "metadata": {},
   "source": [
    "# Import Libraries and Data"
   ]
  },
  {
   "cell_type": "code",
   "execution_count": 1,
   "id": "e2c03c26",
   "metadata": {},
   "outputs": [],
   "source": [
    "# Import Libraries\n",
    "import pandas as pd\n",
    "import numpy as np\n",
    "import os"
   ]
  },
  {
   "cell_type": "code",
   "execution_count": 2,
   "id": "a2b6d665",
   "metadata": {},
   "outputs": [],
   "source": [
    "# Import Data\n",
    "covid = pd.read_csv(r\"C:\\Users\\miche\\DA_Obesity and COVID19\\02 Data\\Original Data\\02 CDC_COVID Deaths by State_Age.csv\")"
   ]
  },
  {
   "cell_type": "markdown",
   "id": "6c7fb325",
   "metadata": {},
   "source": [
    "# Explore Data"
   ]
  },
  {
   "cell_type": "code",
   "execution_count": 3,
   "id": "3ec20fc6",
   "metadata": {},
   "outputs": [
    {
     "data": {
      "text/plain": [
       "(170586, 17)"
      ]
     },
     "execution_count": 3,
     "metadata": {},
     "output_type": "execute_result"
    }
   ],
   "source": [
    "covid.shape"
   ]
  },
  {
   "cell_type": "code",
   "execution_count": 4,
   "id": "a60307cf",
   "metadata": {},
   "outputs": [
    {
     "data": {
      "text/html": [
       "<div>\n",
       "<style scoped>\n",
       "    .dataframe tbody tr th:only-of-type {\n",
       "        vertical-align: middle;\n",
       "    }\n",
       "\n",
       "    .dataframe tbody tr th {\n",
       "        vertical-align: top;\n",
       "    }\n",
       "\n",
       "    .dataframe thead th {\n",
       "        text-align: right;\n",
       "    }\n",
       "</style>\n",
       "<table border=\"1\" class=\"dataframe\">\n",
       "  <thead>\n",
       "    <tr style=\"text-align: right;\">\n",
       "      <th></th>\n",
       "      <th>Data as of</th>\n",
       "      <th>Start Date</th>\n",
       "      <th>End Date</th>\n",
       "      <th>Group</th>\n",
       "      <th>Year</th>\n",
       "      <th>Month</th>\n",
       "      <th>HHS Region</th>\n",
       "      <th>State</th>\n",
       "      <th>Place of Death</th>\n",
       "      <th>Age group</th>\n",
       "      <th>COVID-19 Deaths</th>\n",
       "      <th>Total Deaths</th>\n",
       "      <th>Pneumonia Deaths</th>\n",
       "      <th>Pneumonia and COVID-19 Deaths</th>\n",
       "      <th>Influenza Deaths</th>\n",
       "      <th>Pneumonia, Influenza, or COVID-19 Deaths</th>\n",
       "      <th>Footnote</th>\n",
       "    </tr>\n",
       "  </thead>\n",
       "  <tbody>\n",
       "    <tr>\n",
       "      <th>0</th>\n",
       "      <td>11/23/2022</td>\n",
       "      <td>01/01/2020</td>\n",
       "      <td>11/19/2022</td>\n",
       "      <td>By Total</td>\n",
       "      <td>NaN</td>\n",
       "      <td>NaN</td>\n",
       "      <td>0</td>\n",
       "      <td>United States</td>\n",
       "      <td>Total - All Places of Death</td>\n",
       "      <td>All Ages</td>\n",
       "      <td>1072276.0</td>\n",
       "      <td>9645917.0</td>\n",
       "      <td>995215.0</td>\n",
       "      <td>542212.0</td>\n",
       "      <td>12920.0</td>\n",
       "      <td>1536345.0</td>\n",
       "      <td>NaN</td>\n",
       "    </tr>\n",
       "    <tr>\n",
       "      <th>1</th>\n",
       "      <td>11/23/2022</td>\n",
       "      <td>01/01/2020</td>\n",
       "      <td>11/19/2022</td>\n",
       "      <td>By Total</td>\n",
       "      <td>NaN</td>\n",
       "      <td>NaN</td>\n",
       "      <td>0</td>\n",
       "      <td>United States</td>\n",
       "      <td>Total - All Places of Death</td>\n",
       "      <td>0-17 years</td>\n",
       "      <td>1368.0</td>\n",
       "      <td>99684.0</td>\n",
       "      <td>2079.0</td>\n",
       "      <td>349.0</td>\n",
       "      <td>279.0</td>\n",
       "      <td>3363.0</td>\n",
       "      <td>NaN</td>\n",
       "    </tr>\n",
       "    <tr>\n",
       "      <th>2</th>\n",
       "      <td>11/23/2022</td>\n",
       "      <td>01/01/2020</td>\n",
       "      <td>11/19/2022</td>\n",
       "      <td>By Total</td>\n",
       "      <td>NaN</td>\n",
       "      <td>NaN</td>\n",
       "      <td>0</td>\n",
       "      <td>United States</td>\n",
       "      <td>Total - All Places of Death</td>\n",
       "      <td>18-29 years</td>\n",
       "      <td>6682.0</td>\n",
       "      <td>182114.0</td>\n",
       "      <td>6007.0</td>\n",
       "      <td>3076.0</td>\n",
       "      <td>206.0</td>\n",
       "      <td>9799.0</td>\n",
       "      <td>NaN</td>\n",
       "    </tr>\n",
       "    <tr>\n",
       "      <th>3</th>\n",
       "      <td>11/23/2022</td>\n",
       "      <td>01/01/2020</td>\n",
       "      <td>11/19/2022</td>\n",
       "      <td>By Total</td>\n",
       "      <td>NaN</td>\n",
       "      <td>NaN</td>\n",
       "      <td>0</td>\n",
       "      <td>United States</td>\n",
       "      <td>Total - All Places of Death</td>\n",
       "      <td>30-39 years</td>\n",
       "      <td>19122.0</td>\n",
       "      <td>271691.0</td>\n",
       "      <td>16004.0</td>\n",
       "      <td>9531.0</td>\n",
       "      <td>416.0</td>\n",
       "      <td>25973.0</td>\n",
       "      <td>NaN</td>\n",
       "    </tr>\n",
       "    <tr>\n",
       "      <th>4</th>\n",
       "      <td>11/23/2022</td>\n",
       "      <td>01/01/2020</td>\n",
       "      <td>11/19/2022</td>\n",
       "      <td>By Total</td>\n",
       "      <td>NaN</td>\n",
       "      <td>NaN</td>\n",
       "      <td>0</td>\n",
       "      <td>United States</td>\n",
       "      <td>Total - All Places of Death</td>\n",
       "      <td>40-49 years</td>\n",
       "      <td>44832.0</td>\n",
       "      <td>401949.0</td>\n",
       "      <td>36643.0</td>\n",
       "      <td>23661.0</td>\n",
       "      <td>645.0</td>\n",
       "      <td>58363.0</td>\n",
       "      <td>NaN</td>\n",
       "    </tr>\n",
       "  </tbody>\n",
       "</table>\n",
       "</div>"
      ],
      "text/plain": [
       "   Data as of  Start Date    End Date     Group  Year  Month  HHS Region  \\\n",
       "0  11/23/2022  01/01/2020  11/19/2022  By Total   NaN    NaN           0   \n",
       "1  11/23/2022  01/01/2020  11/19/2022  By Total   NaN    NaN           0   \n",
       "2  11/23/2022  01/01/2020  11/19/2022  By Total   NaN    NaN           0   \n",
       "3  11/23/2022  01/01/2020  11/19/2022  By Total   NaN    NaN           0   \n",
       "4  11/23/2022  01/01/2020  11/19/2022  By Total   NaN    NaN           0   \n",
       "\n",
       "           State               Place of Death    Age group  COVID-19 Deaths  \\\n",
       "0  United States  Total - All Places of Death     All Ages        1072276.0   \n",
       "1  United States  Total - All Places of Death   0-17 years           1368.0   \n",
       "2  United States  Total - All Places of Death  18-29 years           6682.0   \n",
       "3  United States  Total - All Places of Death  30-39 years          19122.0   \n",
       "4  United States  Total - All Places of Death  40-49 years          44832.0   \n",
       "\n",
       "   Total Deaths  Pneumonia Deaths  Pneumonia and COVID-19 Deaths  \\\n",
       "0     9645917.0          995215.0                       542212.0   \n",
       "1       99684.0            2079.0                          349.0   \n",
       "2      182114.0            6007.0                         3076.0   \n",
       "3      271691.0           16004.0                         9531.0   \n",
       "4      401949.0           36643.0                        23661.0   \n",
       "\n",
       "   Influenza Deaths  Pneumonia, Influenza, or COVID-19 Deaths Footnote  \n",
       "0           12920.0                                 1536345.0      NaN  \n",
       "1             279.0                                    3363.0      NaN  \n",
       "2             206.0                                    9799.0      NaN  \n",
       "3             416.0                                   25973.0      NaN  \n",
       "4             645.0                                   58363.0      NaN  "
      ]
     },
     "execution_count": 4,
     "metadata": {},
     "output_type": "execute_result"
    }
   ],
   "source": [
    "covid.head()"
   ]
  },
  {
   "cell_type": "code",
   "execution_count": 5,
   "id": "e4355382",
   "metadata": {},
   "outputs": [
    {
     "name": "stdout",
     "output_type": "stream",
     "text": [
      "<class 'pandas.core.frame.DataFrame'>\n",
      "RangeIndex: 170586 entries, 0 to 170585\n",
      "Data columns (total 17 columns):\n",
      " #   Column                                    Non-Null Count   Dtype  \n",
      "---  ------                                    --------------   -----  \n",
      " 0   Data as of                                170586 non-null  object \n",
      " 1   Start Date                                170586 non-null  object \n",
      " 2   End Date                                  170586 non-null  object \n",
      " 3   Group                                     170586 non-null  object \n",
      " 4   Year                                      166212 non-null  float64\n",
      " 5   Month                                     153090 non-null  float64\n",
      " 6   HHS Region                                170586 non-null  int64  \n",
      " 7   State                                     170586 non-null  object \n",
      " 8   Place of Death                            170586 non-null  object \n",
      " 9   Age group                                 170586 non-null  object \n",
      " 10  COVID-19 Deaths                           129992 non-null  float64\n",
      " 11  Total Deaths                              139846 non-null  float64\n",
      " 12  Pneumonia Deaths                          125344 non-null  float64\n",
      " 13  Pneumonia and COVID-19 Deaths             135598 non-null  float64\n",
      " 14  Influenza Deaths                          153452 non-null  float64\n",
      " 15  Pneumonia, Influenza, or COVID-19 Deaths  125354 non-null  float64\n",
      " 16  Footnote                                  102430 non-null  object \n",
      "dtypes: float64(8), int64(1), object(8)\n",
      "memory usage: 22.1+ MB\n"
     ]
    }
   ],
   "source": [
    "covid.info()"
   ]
  },
  {
   "cell_type": "code",
   "execution_count": 6,
   "id": "ec2a5e65",
   "metadata": {},
   "outputs": [
    {
     "data": {
      "text/html": [
       "<div>\n",
       "<style scoped>\n",
       "    .dataframe tbody tr th:only-of-type {\n",
       "        vertical-align: middle;\n",
       "    }\n",
       "\n",
       "    .dataframe tbody tr th {\n",
       "        vertical-align: top;\n",
       "    }\n",
       "\n",
       "    .dataframe thead th {\n",
       "        text-align: right;\n",
       "    }\n",
       "</style>\n",
       "<table border=\"1\" class=\"dataframe\">\n",
       "  <thead>\n",
       "    <tr style=\"text-align: right;\">\n",
       "      <th></th>\n",
       "      <th>Year</th>\n",
       "      <th>Month</th>\n",
       "      <th>HHS Region</th>\n",
       "      <th>COVID-19 Deaths</th>\n",
       "      <th>Total Deaths</th>\n",
       "      <th>Pneumonia Deaths</th>\n",
       "      <th>Pneumonia and COVID-19 Deaths</th>\n",
       "      <th>Influenza Deaths</th>\n",
       "      <th>Pneumonia, Influenza, or COVID-19 Deaths</th>\n",
       "    </tr>\n",
       "  </thead>\n",
       "  <tbody>\n",
       "    <tr>\n",
       "      <th>count</th>\n",
       "      <td>166212.000000</td>\n",
       "      <td>153090.000000</td>\n",
       "      <td>170586.000000</td>\n",
       "      <td>1.299920e+05</td>\n",
       "      <td>1.398460e+05</td>\n",
       "      <td>125344.00000</td>\n",
       "      <td>135598.000000</td>\n",
       "      <td>153452.000000</td>\n",
       "      <td>1.253540e+05</td>\n",
       "    </tr>\n",
       "    <tr>\n",
       "      <th>mean</th>\n",
       "      <td>2020.973684</td>\n",
       "      <td>6.342857</td>\n",
       "      <td>5.111111</td>\n",
       "      <td>1.974772e+02</td>\n",
       "      <td>1.662788e+03</td>\n",
       "      <td>190.68166</td>\n",
       "      <td>95.525332</td>\n",
       "      <td>1.780961</td>\n",
       "      <td>2.944153e+02</td>\n",
       "    </tr>\n",
       "    <tr>\n",
       "      <th>std</th>\n",
       "      <td>0.810683</td>\n",
       "      <td>3.371682</td>\n",
       "      <td>2.813117</td>\n",
       "      <td>4.857489e+03</td>\n",
       "      <td>3.782581e+04</td>\n",
       "      <td>4718.67604</td>\n",
       "      <td>2585.151283</td>\n",
       "      <td>56.907361</td>\n",
       "      <td>7.034589e+03</td>\n",
       "    </tr>\n",
       "    <tr>\n",
       "      <th>min</th>\n",
       "      <td>2020.000000</td>\n",
       "      <td>1.000000</td>\n",
       "      <td>0.000000</td>\n",
       "      <td>0.000000e+00</td>\n",
       "      <td>0.000000e+00</td>\n",
       "      <td>0.00000</td>\n",
       "      <td>0.000000</td>\n",
       "      <td>0.000000</td>\n",
       "      <td>0.000000e+00</td>\n",
       "    </tr>\n",
       "    <tr>\n",
       "      <th>25%</th>\n",
       "      <td>2020.000000</td>\n",
       "      <td>3.000000</td>\n",
       "      <td>3.000000</td>\n",
       "      <td>0.000000e+00</td>\n",
       "      <td>0.000000e+00</td>\n",
       "      <td>0.00000</td>\n",
       "      <td>0.000000</td>\n",
       "      <td>0.000000</td>\n",
       "      <td>0.000000e+00</td>\n",
       "    </tr>\n",
       "    <tr>\n",
       "      <th>50%</th>\n",
       "      <td>2021.000000</td>\n",
       "      <td>6.000000</td>\n",
       "      <td>5.000000</td>\n",
       "      <td>0.000000e+00</td>\n",
       "      <td>5.200000e+01</td>\n",
       "      <td>0.00000</td>\n",
       "      <td>0.000000</td>\n",
       "      <td>0.000000</td>\n",
       "      <td>0.000000e+00</td>\n",
       "    </tr>\n",
       "    <tr>\n",
       "      <th>75%</th>\n",
       "      <td>2022.000000</td>\n",
       "      <td>9.000000</td>\n",
       "      <td>8.000000</td>\n",
       "      <td>1.600000e+01</td>\n",
       "      <td>2.990000e+02</td>\n",
       "      <td>19.00000</td>\n",
       "      <td>0.000000</td>\n",
       "      <td>0.000000</td>\n",
       "      <td>3.300000e+01</td>\n",
       "    </tr>\n",
       "    <tr>\n",
       "      <th>max</th>\n",
       "      <td>2022.000000</td>\n",
       "      <td>12.000000</td>\n",
       "      <td>10.000000</td>\n",
       "      <td>1.072276e+06</td>\n",
       "      <td>9.645917e+06</td>\n",
       "      <td>995215.00000</td>\n",
       "      <td>542212.000000</td>\n",
       "      <td>12920.000000</td>\n",
       "      <td>1.536345e+06</td>\n",
       "    </tr>\n",
       "  </tbody>\n",
       "</table>\n",
       "</div>"
      ],
      "text/plain": [
       "                Year          Month     HHS Region  COVID-19 Deaths  \\\n",
       "count  166212.000000  153090.000000  170586.000000     1.299920e+05   \n",
       "mean     2020.973684       6.342857       5.111111     1.974772e+02   \n",
       "std         0.810683       3.371682       2.813117     4.857489e+03   \n",
       "min      2020.000000       1.000000       0.000000     0.000000e+00   \n",
       "25%      2020.000000       3.000000       3.000000     0.000000e+00   \n",
       "50%      2021.000000       6.000000       5.000000     0.000000e+00   \n",
       "75%      2022.000000       9.000000       8.000000     1.600000e+01   \n",
       "max      2022.000000      12.000000      10.000000     1.072276e+06   \n",
       "\n",
       "       Total Deaths  Pneumonia Deaths  Pneumonia and COVID-19 Deaths  \\\n",
       "count  1.398460e+05      125344.00000                  135598.000000   \n",
       "mean   1.662788e+03         190.68166                      95.525332   \n",
       "std    3.782581e+04        4718.67604                    2585.151283   \n",
       "min    0.000000e+00           0.00000                       0.000000   \n",
       "25%    0.000000e+00           0.00000                       0.000000   \n",
       "50%    5.200000e+01           0.00000                       0.000000   \n",
       "75%    2.990000e+02          19.00000                       0.000000   \n",
       "max    9.645917e+06      995215.00000                  542212.000000   \n",
       "\n",
       "       Influenza Deaths  Pneumonia, Influenza, or COVID-19 Deaths  \n",
       "count     153452.000000                              1.253540e+05  \n",
       "mean           1.780961                              2.944153e+02  \n",
       "std           56.907361                              7.034589e+03  \n",
       "min            0.000000                              0.000000e+00  \n",
       "25%            0.000000                              0.000000e+00  \n",
       "50%            0.000000                              0.000000e+00  \n",
       "75%            0.000000                              3.300000e+01  \n",
       "max        12920.000000                              1.536345e+06  "
      ]
     },
     "execution_count": 6,
     "metadata": {},
     "output_type": "execute_result"
    }
   ],
   "source": [
    "covid.describe()"
   ]
  },
  {
   "cell_type": "code",
   "execution_count": 7,
   "id": "3831632a",
   "metadata": {},
   "outputs": [
    {
     "data": {
      "text/plain": [
       "Index(['Data as of', 'Start Date', 'End Date', 'Group', 'Year', 'Month',\n",
       "       'HHS Region', 'State', 'Place of Death', 'Age group', 'COVID-19 Deaths',\n",
       "       'Total Deaths', 'Pneumonia Deaths', 'Pneumonia and COVID-19 Deaths',\n",
       "       'Influenza Deaths', 'Pneumonia, Influenza, or COVID-19 Deaths',\n",
       "       'Footnote'],\n",
       "      dtype='object')"
      ]
     },
     "execution_count": 7,
     "metadata": {},
     "output_type": "execute_result"
    }
   ],
   "source": [
    "covid.columns"
   ]
  },
  {
   "cell_type": "markdown",
   "id": "9828a5a9",
   "metadata": {},
   "source": [
    "# Wrangle Data"
   ]
  },
  {
   "cell_type": "code",
   "execution_count": 8,
   "id": "e8c08713",
   "metadata": {},
   "outputs": [],
   "source": [
    "# Drop Columns\n",
    "covid=covid.drop(columns=['Data as of','Start Date','End Date','HHS Region','Total Deaths','Pneumonia Deaths','Pneumonia and COVID-19 Deaths','Influenza Deaths','Pneumonia, Influenza, or COVID-19 Deaths','Footnote'])"
   ]
  },
  {
   "cell_type": "code",
   "execution_count": 9,
   "id": "0d401868",
   "metadata": {},
   "outputs": [
    {
     "data": {
      "text/plain": [
       "(170586, 7)"
      ]
     },
     "execution_count": 9,
     "metadata": {},
     "output_type": "execute_result"
    }
   ],
   "source": [
    "covid.shape"
   ]
  },
  {
   "cell_type": "code",
   "execution_count": 10,
   "id": "72380d5e",
   "metadata": {},
   "outputs": [],
   "source": [
    "# Rename Columns\n",
    "covid=covid.rename(columns={'Group':'Group By', 'Age group':'Age Group'})"
   ]
  },
  {
   "cell_type": "code",
   "execution_count": 11,
   "id": "b5475236",
   "metadata": {},
   "outputs": [
    {
     "data": {
      "text/plain": [
       "Index(['Group By', 'Year', 'Month', 'State', 'Place of Death', 'Age Group',\n",
       "       'COVID-19 Deaths'],\n",
       "      dtype='object')"
      ]
     },
     "execution_count": 11,
     "metadata": {},
     "output_type": "execute_result"
    }
   ],
   "source": [
    "covid.columns"
   ]
  },
  {
   "cell_type": "markdown",
   "id": "a449b5b0",
   "metadata": {},
   "source": [
    "# Data Quality Checks"
   ]
  },
  {
   "cell_type": "code",
   "execution_count": 12,
   "id": "1509c81c",
   "metadata": {},
   "outputs": [],
   "source": [
    "# Check for mixed type data\n",
    "for col in covid.columns.tolist():\n",
    "  weird = (covid[[col]].applymap(type) != covid[[col]].iloc[0].apply(type)).any(axis = 1)\n",
    "  if len (covid[weird]) > 0:\n",
    "    print (col)"
   ]
  },
  {
   "cell_type": "markdown",
   "id": "53e36090",
   "metadata": {},
   "source": [
    "#### No mixed type data."
   ]
  },
  {
   "cell_type": "code",
   "execution_count": 13,
   "id": "31ec3ab0",
   "metadata": {},
   "outputs": [
    {
     "data": {
      "text/plain": [
       "Group By               0\n",
       "Year                4374\n",
       "Month              17496\n",
       "State                  0\n",
       "Place of Death         0\n",
       "Age Group              0\n",
       "COVID-19 Deaths    40594\n",
       "dtype: int64"
      ]
     },
     "execution_count": 13,
     "metadata": {},
     "output_type": "execute_result"
    }
   ],
   "source": [
    "# Check for missing values\n",
    "covid.isnull().sum()"
   ]
  },
  {
   "cell_type": "markdown",
   "id": "3c48e230",
   "metadata": {},
   "source": [
    "#### Missing values likely due to suppressed monthly data at the state level and may be addressed after filtering data."
   ]
  },
  {
   "cell_type": "code",
   "execution_count": 14,
   "id": "bae16195",
   "metadata": {},
   "outputs": [
    {
     "data": {
      "text/html": [
       "<div>\n",
       "<style scoped>\n",
       "    .dataframe tbody tr th:only-of-type {\n",
       "        vertical-align: middle;\n",
       "    }\n",
       "\n",
       "    .dataframe tbody tr th {\n",
       "        vertical-align: top;\n",
       "    }\n",
       "\n",
       "    .dataframe thead th {\n",
       "        text-align: right;\n",
       "    }\n",
       "</style>\n",
       "<table border=\"1\" class=\"dataframe\">\n",
       "  <thead>\n",
       "    <tr style=\"text-align: right;\">\n",
       "      <th></th>\n",
       "      <th>Group By</th>\n",
       "      <th>Year</th>\n",
       "      <th>Month</th>\n",
       "      <th>State</th>\n",
       "      <th>Place of Death</th>\n",
       "      <th>Age Group</th>\n",
       "      <th>COVID-19 Deaths</th>\n",
       "    </tr>\n",
       "  </thead>\n",
       "  <tbody>\n",
       "  </tbody>\n",
       "</table>\n",
       "</div>"
      ],
      "text/plain": [
       "Empty DataFrame\n",
       "Columns: [Group By, Year, Month, State, Place of Death, Age Group, COVID-19 Deaths]\n",
       "Index: []"
      ]
     },
     "execution_count": 14,
     "metadata": {},
     "output_type": "execute_result"
    }
   ],
   "source": [
    "# Find duplicates\n",
    "covid_dups = covid[covid.duplicated()]\n",
    "covid_dups"
   ]
  },
  {
   "cell_type": "markdown",
   "id": "06b60003",
   "metadata": {},
   "source": [
    "#### No duplicates."
   ]
  },
  {
   "cell_type": "code",
   "execution_count": 15,
   "id": "923bf01e",
   "metadata": {},
   "outputs": [
    {
     "data": {
      "text/plain": [
       "United States           3159\n",
       "Pennsylvania            3159\n",
       "Nevada                  3159\n",
       "New Hampshire           3159\n",
       "New Jersey              3159\n",
       "New Mexico              3159\n",
       "New York                3159\n",
       "New York City           3159\n",
       "North Carolina          3159\n",
       "North Dakota            3159\n",
       "Ohio                    3159\n",
       "Oklahoma                3159\n",
       "Oregon                  3159\n",
       "Rhode Island            3159\n",
       "Alabama                 3159\n",
       "South Carolina          3159\n",
       "South Dakota            3159\n",
       "Tennessee               3159\n",
       "Texas                   3159\n",
       "Utah                    3159\n",
       "Vermont                 3159\n",
       "Virginia                3159\n",
       "Washington              3159\n",
       "West Virginia           3159\n",
       "Wisconsin               3159\n",
       "Wyoming                 3159\n",
       "Nebraska                3159\n",
       "Montana                 3159\n",
       "Missouri                3159\n",
       "Mississippi             3159\n",
       "Alaska                  3159\n",
       "Arizona                 3159\n",
       "Arkansas                3159\n",
       "California              3159\n",
       "Colorado                3159\n",
       "Connecticut             3159\n",
       "Delaware                3159\n",
       "District of Columbia    3159\n",
       "Florida                 3159\n",
       "Georgia                 3159\n",
       "Hawaii                  3159\n",
       "Idaho                   3159\n",
       "Illinois                3159\n",
       "Indiana                 3159\n",
       "Iowa                    3159\n",
       "Kansas                  3159\n",
       "Kentucky                3159\n",
       "Louisiana               3159\n",
       "Maine                   3159\n",
       "Maryland                3159\n",
       "Massachusetts           3159\n",
       "Michigan                3159\n",
       "Minnesota               3159\n",
       "Puerto Rico             3159\n",
       "Name: State, dtype: int64"
      ]
     },
     "execution_count": 15,
     "metadata": {},
     "output_type": "execute_result"
    }
   ],
   "source": [
    "covid['State'].value_counts()"
   ]
  },
  {
   "cell_type": "code",
   "execution_count": 16,
   "id": "9b99a723",
   "metadata": {},
   "outputs": [],
   "source": [
    "# Remove PR from State column\n",
    "covid=covid[covid.State !='Puerto Rico']"
   ]
  },
  {
   "cell_type": "code",
   "execution_count": 17,
   "id": "9058310e",
   "metadata": {},
   "outputs": [],
   "source": [
    "# Remove NYC from State column\n",
    "covid=covid[covid.State !='New York City']"
   ]
  },
  {
   "cell_type": "code",
   "execution_count": 18,
   "id": "e0a4b358",
   "metadata": {},
   "outputs": [
    {
     "data": {
      "text/html": [
       "<div>\n",
       "<style scoped>\n",
       "    .dataframe tbody tr th:only-of-type {\n",
       "        vertical-align: middle;\n",
       "    }\n",
       "\n",
       "    .dataframe tbody tr th {\n",
       "        vertical-align: top;\n",
       "    }\n",
       "\n",
       "    .dataframe thead th {\n",
       "        text-align: right;\n",
       "    }\n",
       "</style>\n",
       "<table border=\"1\" class=\"dataframe\">\n",
       "  <thead>\n",
       "    <tr style=\"text-align: right;\">\n",
       "      <th></th>\n",
       "      <th>Group By</th>\n",
       "      <th>Year</th>\n",
       "      <th>Month</th>\n",
       "      <th>State</th>\n",
       "      <th>Place of Death</th>\n",
       "      <th>Age Group</th>\n",
       "      <th>COVID-19 Deaths</th>\n",
       "    </tr>\n",
       "  </thead>\n",
       "  <tbody>\n",
       "    <tr>\n",
       "      <th>4374</th>\n",
       "      <td>By Year</td>\n",
       "      <td>2020.0</td>\n",
       "      <td>NaN</td>\n",
       "      <td>United States</td>\n",
       "      <td>Total - All Places of Death</td>\n",
       "      <td>All Ages</td>\n",
       "      <td>385665.0</td>\n",
       "    </tr>\n",
       "    <tr>\n",
       "      <th>4375</th>\n",
       "      <td>By Year</td>\n",
       "      <td>2020.0</td>\n",
       "      <td>NaN</td>\n",
       "      <td>United States</td>\n",
       "      <td>Total - All Places of Death</td>\n",
       "      <td>0-17 years</td>\n",
       "      <td>199.0</td>\n",
       "    </tr>\n",
       "    <tr>\n",
       "      <th>4376</th>\n",
       "      <td>By Year</td>\n",
       "      <td>2020.0</td>\n",
       "      <td>NaN</td>\n",
       "      <td>United States</td>\n",
       "      <td>Total - All Places of Death</td>\n",
       "      <td>18-29 years</td>\n",
       "      <td>1489.0</td>\n",
       "    </tr>\n",
       "    <tr>\n",
       "      <th>4377</th>\n",
       "      <td>By Year</td>\n",
       "      <td>2020.0</td>\n",
       "      <td>NaN</td>\n",
       "      <td>United States</td>\n",
       "      <td>Total - All Places of Death</td>\n",
       "      <td>30-39 years</td>\n",
       "      <td>4294.0</td>\n",
       "    </tr>\n",
       "    <tr>\n",
       "      <th>4378</th>\n",
       "      <td>By Year</td>\n",
       "      <td>2020.0</td>\n",
       "      <td>NaN</td>\n",
       "      <td>United States</td>\n",
       "      <td>Total - All Places of Death</td>\n",
       "      <td>40-49 years</td>\n",
       "      <td>11336.0</td>\n",
       "    </tr>\n",
       "    <tr>\n",
       "      <th>4379</th>\n",
       "      <td>By Year</td>\n",
       "      <td>2020.0</td>\n",
       "      <td>NaN</td>\n",
       "      <td>United States</td>\n",
       "      <td>Total - All Places of Death</td>\n",
       "      <td>50-64 years</td>\n",
       "      <td>56802.0</td>\n",
       "    </tr>\n",
       "    <tr>\n",
       "      <th>4380</th>\n",
       "      <td>By Year</td>\n",
       "      <td>2020.0</td>\n",
       "      <td>NaN</td>\n",
       "      <td>United States</td>\n",
       "      <td>Total - All Places of Death</td>\n",
       "      <td>65-74 years</td>\n",
       "      <td>82332.0</td>\n",
       "    </tr>\n",
       "    <tr>\n",
       "      <th>4381</th>\n",
       "      <td>By Year</td>\n",
       "      <td>2020.0</td>\n",
       "      <td>NaN</td>\n",
       "      <td>United States</td>\n",
       "      <td>Total - All Places of Death</td>\n",
       "      <td>75-84 years</td>\n",
       "      <td>106318.0</td>\n",
       "    </tr>\n",
       "    <tr>\n",
       "      <th>4382</th>\n",
       "      <td>By Year</td>\n",
       "      <td>2020.0</td>\n",
       "      <td>NaN</td>\n",
       "      <td>United States</td>\n",
       "      <td>Total - All Places of Death</td>\n",
       "      <td>85 years and over</td>\n",
       "      <td>122895.0</td>\n",
       "    </tr>\n",
       "    <tr>\n",
       "      <th>4383</th>\n",
       "      <td>By Year</td>\n",
       "      <td>2020.0</td>\n",
       "      <td>NaN</td>\n",
       "      <td>United States</td>\n",
       "      <td>Healthcare setting, inpatient</td>\n",
       "      <td>All Ages</td>\n",
       "      <td>244422.0</td>\n",
       "    </tr>\n",
       "    <tr>\n",
       "      <th>4384</th>\n",
       "      <td>By Year</td>\n",
       "      <td>2020.0</td>\n",
       "      <td>NaN</td>\n",
       "      <td>United States</td>\n",
       "      <td>Healthcare setting, inpatient</td>\n",
       "      <td>0-17 years</td>\n",
       "      <td>127.0</td>\n",
       "    </tr>\n",
       "    <tr>\n",
       "      <th>4385</th>\n",
       "      <td>By Year</td>\n",
       "      <td>2020.0</td>\n",
       "      <td>NaN</td>\n",
       "      <td>United States</td>\n",
       "      <td>Healthcare setting, inpatient</td>\n",
       "      <td>18-29 years</td>\n",
       "      <td>1008.0</td>\n",
       "    </tr>\n",
       "    <tr>\n",
       "      <th>4386</th>\n",
       "      <td>By Year</td>\n",
       "      <td>2020.0</td>\n",
       "      <td>NaN</td>\n",
       "      <td>United States</td>\n",
       "      <td>Healthcare setting, inpatient</td>\n",
       "      <td>30-39 years</td>\n",
       "      <td>3044.0</td>\n",
       "    </tr>\n",
       "    <tr>\n",
       "      <th>4387</th>\n",
       "      <td>By Year</td>\n",
       "      <td>2020.0</td>\n",
       "      <td>NaN</td>\n",
       "      <td>United States</td>\n",
       "      <td>Healthcare setting, inpatient</td>\n",
       "      <td>40-49 years</td>\n",
       "      <td>8548.0</td>\n",
       "    </tr>\n",
       "    <tr>\n",
       "      <th>4388</th>\n",
       "      <td>By Year</td>\n",
       "      <td>2020.0</td>\n",
       "      <td>NaN</td>\n",
       "      <td>United States</td>\n",
       "      <td>Healthcare setting, inpatient</td>\n",
       "      <td>50-64 years</td>\n",
       "      <td>44650.0</td>\n",
       "    </tr>\n",
       "  </tbody>\n",
       "</table>\n",
       "</div>"
      ],
      "text/plain": [
       "     Group By    Year  Month          State                 Place of Death  \\\n",
       "4374  By Year  2020.0    NaN  United States    Total - All Places of Death   \n",
       "4375  By Year  2020.0    NaN  United States    Total - All Places of Death   \n",
       "4376  By Year  2020.0    NaN  United States    Total - All Places of Death   \n",
       "4377  By Year  2020.0    NaN  United States    Total - All Places of Death   \n",
       "4378  By Year  2020.0    NaN  United States    Total - All Places of Death   \n",
       "4379  By Year  2020.0    NaN  United States    Total - All Places of Death   \n",
       "4380  By Year  2020.0    NaN  United States    Total - All Places of Death   \n",
       "4381  By Year  2020.0    NaN  United States    Total - All Places of Death   \n",
       "4382  By Year  2020.0    NaN  United States    Total - All Places of Death   \n",
       "4383  By Year  2020.0    NaN  United States  Healthcare setting, inpatient   \n",
       "4384  By Year  2020.0    NaN  United States  Healthcare setting, inpatient   \n",
       "4385  By Year  2020.0    NaN  United States  Healthcare setting, inpatient   \n",
       "4386  By Year  2020.0    NaN  United States  Healthcare setting, inpatient   \n",
       "4387  By Year  2020.0    NaN  United States  Healthcare setting, inpatient   \n",
       "4388  By Year  2020.0    NaN  United States  Healthcare setting, inpatient   \n",
       "\n",
       "              Age Group  COVID-19 Deaths  \n",
       "4374           All Ages         385665.0  \n",
       "4375         0-17 years            199.0  \n",
       "4376        18-29 years           1489.0  \n",
       "4377        30-39 years           4294.0  \n",
       "4378        40-49 years          11336.0  \n",
       "4379        50-64 years          56802.0  \n",
       "4380        65-74 years          82332.0  \n",
       "4381        75-84 years         106318.0  \n",
       "4382  85 years and over         122895.0  \n",
       "4383           All Ages         244422.0  \n",
       "4384         0-17 years            127.0  \n",
       "4385        18-29 years           1008.0  \n",
       "4386        30-39 years           3044.0  \n",
       "4387        40-49 years           8548.0  \n",
       "4388        50-64 years          44650.0  "
      ]
     },
     "execution_count": 18,
     "metadata": {},
     "output_type": "execute_result"
    }
   ],
   "source": [
    "# Filter data to include only Group By: By Year Data\n",
    "include=['By Year']\n",
    "covid_group_year=covid.loc[covid['Group By'].isin(include)]\n",
    "covid_group_year.head(15)"
   ]
  },
  {
   "cell_type": "code",
   "execution_count": 19,
   "id": "09117844",
   "metadata": {},
   "outputs": [
    {
     "data": {
      "text/html": [
       "<div>\n",
       "<style scoped>\n",
       "    .dataframe tbody tr th:only-of-type {\n",
       "        vertical-align: middle;\n",
       "    }\n",
       "\n",
       "    .dataframe tbody tr th {\n",
       "        vertical-align: top;\n",
       "    }\n",
       "\n",
       "    .dataframe thead th {\n",
       "        text-align: right;\n",
       "    }\n",
       "</style>\n",
       "<table border=\"1\" class=\"dataframe\">\n",
       "  <thead>\n",
       "    <tr style=\"text-align: right;\">\n",
       "      <th></th>\n",
       "      <th>Group By</th>\n",
       "      <th>Year</th>\n",
       "      <th>Month</th>\n",
       "      <th>State</th>\n",
       "      <th>Place of Death</th>\n",
       "      <th>Age Group</th>\n",
       "      <th>COVID-19 Deaths</th>\n",
       "    </tr>\n",
       "  </thead>\n",
       "  <tbody>\n",
       "    <tr>\n",
       "      <th>4374</th>\n",
       "      <td>By Year</td>\n",
       "      <td>2020.0</td>\n",
       "      <td>NaN</td>\n",
       "      <td>United States</td>\n",
       "      <td>Total - All Places of Death</td>\n",
       "      <td>All Ages</td>\n",
       "      <td>385665.0</td>\n",
       "    </tr>\n",
       "    <tr>\n",
       "      <th>4375</th>\n",
       "      <td>By Year</td>\n",
       "      <td>2020.0</td>\n",
       "      <td>NaN</td>\n",
       "      <td>United States</td>\n",
       "      <td>Total - All Places of Death</td>\n",
       "      <td>0-17 years</td>\n",
       "      <td>199.0</td>\n",
       "    </tr>\n",
       "    <tr>\n",
       "      <th>4376</th>\n",
       "      <td>By Year</td>\n",
       "      <td>2020.0</td>\n",
       "      <td>NaN</td>\n",
       "      <td>United States</td>\n",
       "      <td>Total - All Places of Death</td>\n",
       "      <td>18-29 years</td>\n",
       "      <td>1489.0</td>\n",
       "    </tr>\n",
       "    <tr>\n",
       "      <th>4377</th>\n",
       "      <td>By Year</td>\n",
       "      <td>2020.0</td>\n",
       "      <td>NaN</td>\n",
       "      <td>United States</td>\n",
       "      <td>Total - All Places of Death</td>\n",
       "      <td>30-39 years</td>\n",
       "      <td>4294.0</td>\n",
       "    </tr>\n",
       "    <tr>\n",
       "      <th>4378</th>\n",
       "      <td>By Year</td>\n",
       "      <td>2020.0</td>\n",
       "      <td>NaN</td>\n",
       "      <td>United States</td>\n",
       "      <td>Total - All Places of Death</td>\n",
       "      <td>40-49 years</td>\n",
       "      <td>11336.0</td>\n",
       "    </tr>\n",
       "    <tr>\n",
       "      <th>4379</th>\n",
       "      <td>By Year</td>\n",
       "      <td>2020.0</td>\n",
       "      <td>NaN</td>\n",
       "      <td>United States</td>\n",
       "      <td>Total - All Places of Death</td>\n",
       "      <td>50-64 years</td>\n",
       "      <td>56802.0</td>\n",
       "    </tr>\n",
       "    <tr>\n",
       "      <th>4380</th>\n",
       "      <td>By Year</td>\n",
       "      <td>2020.0</td>\n",
       "      <td>NaN</td>\n",
       "      <td>United States</td>\n",
       "      <td>Total - All Places of Death</td>\n",
       "      <td>65-74 years</td>\n",
       "      <td>82332.0</td>\n",
       "    </tr>\n",
       "    <tr>\n",
       "      <th>4381</th>\n",
       "      <td>By Year</td>\n",
       "      <td>2020.0</td>\n",
       "      <td>NaN</td>\n",
       "      <td>United States</td>\n",
       "      <td>Total - All Places of Death</td>\n",
       "      <td>75-84 years</td>\n",
       "      <td>106318.0</td>\n",
       "    </tr>\n",
       "    <tr>\n",
       "      <th>4382</th>\n",
       "      <td>By Year</td>\n",
       "      <td>2020.0</td>\n",
       "      <td>NaN</td>\n",
       "      <td>United States</td>\n",
       "      <td>Total - All Places of Death</td>\n",
       "      <td>85 years and over</td>\n",
       "      <td>122895.0</td>\n",
       "    </tr>\n",
       "    <tr>\n",
       "      <th>4455</th>\n",
       "      <td>By Year</td>\n",
       "      <td>2021.0</td>\n",
       "      <td>NaN</td>\n",
       "      <td>United States</td>\n",
       "      <td>Total - All Places of Death</td>\n",
       "      <td>All Ages</td>\n",
       "      <td>463195.0</td>\n",
       "    </tr>\n",
       "    <tr>\n",
       "      <th>4456</th>\n",
       "      <td>By Year</td>\n",
       "      <td>2021.0</td>\n",
       "      <td>NaN</td>\n",
       "      <td>United States</td>\n",
       "      <td>Total - All Places of Death</td>\n",
       "      <td>0-17 years</td>\n",
       "      <td>609.0</td>\n",
       "    </tr>\n",
       "    <tr>\n",
       "      <th>4457</th>\n",
       "      <td>By Year</td>\n",
       "      <td>2021.0</td>\n",
       "      <td>NaN</td>\n",
       "      <td>United States</td>\n",
       "      <td>Total - All Places of Death</td>\n",
       "      <td>18-29 years</td>\n",
       "      <td>3933.0</td>\n",
       "    </tr>\n",
       "    <tr>\n",
       "      <th>4458</th>\n",
       "      <td>By Year</td>\n",
       "      <td>2021.0</td>\n",
       "      <td>NaN</td>\n",
       "      <td>United States</td>\n",
       "      <td>Total - All Places of Death</td>\n",
       "      <td>30-39 years</td>\n",
       "      <td>11575.0</td>\n",
       "    </tr>\n",
       "    <tr>\n",
       "      <th>4459</th>\n",
       "      <td>By Year</td>\n",
       "      <td>2021.0</td>\n",
       "      <td>NaN</td>\n",
       "      <td>United States</td>\n",
       "      <td>Total - All Places of Death</td>\n",
       "      <td>40-49 years</td>\n",
       "      <td>26213.0</td>\n",
       "    </tr>\n",
       "    <tr>\n",
       "      <th>4460</th>\n",
       "      <td>By Year</td>\n",
       "      <td>2021.0</td>\n",
       "      <td>NaN</td>\n",
       "      <td>United States</td>\n",
       "      <td>Total - All Places of Death</td>\n",
       "      <td>50-64 years</td>\n",
       "      <td>103174.0</td>\n",
       "    </tr>\n",
       "  </tbody>\n",
       "</table>\n",
       "</div>"
      ],
      "text/plain": [
       "     Group By    Year  Month          State               Place of Death  \\\n",
       "4374  By Year  2020.0    NaN  United States  Total - All Places of Death   \n",
       "4375  By Year  2020.0    NaN  United States  Total - All Places of Death   \n",
       "4376  By Year  2020.0    NaN  United States  Total - All Places of Death   \n",
       "4377  By Year  2020.0    NaN  United States  Total - All Places of Death   \n",
       "4378  By Year  2020.0    NaN  United States  Total - All Places of Death   \n",
       "4379  By Year  2020.0    NaN  United States  Total - All Places of Death   \n",
       "4380  By Year  2020.0    NaN  United States  Total - All Places of Death   \n",
       "4381  By Year  2020.0    NaN  United States  Total - All Places of Death   \n",
       "4382  By Year  2020.0    NaN  United States  Total - All Places of Death   \n",
       "4455  By Year  2021.0    NaN  United States  Total - All Places of Death   \n",
       "4456  By Year  2021.0    NaN  United States  Total - All Places of Death   \n",
       "4457  By Year  2021.0    NaN  United States  Total - All Places of Death   \n",
       "4458  By Year  2021.0    NaN  United States  Total - All Places of Death   \n",
       "4459  By Year  2021.0    NaN  United States  Total - All Places of Death   \n",
       "4460  By Year  2021.0    NaN  United States  Total - All Places of Death   \n",
       "\n",
       "              Age Group  COVID-19 Deaths  \n",
       "4374           All Ages         385665.0  \n",
       "4375         0-17 years            199.0  \n",
       "4376        18-29 years           1489.0  \n",
       "4377        30-39 years           4294.0  \n",
       "4378        40-49 years          11336.0  \n",
       "4379        50-64 years          56802.0  \n",
       "4380        65-74 years          82332.0  \n",
       "4381        75-84 years         106318.0  \n",
       "4382  85 years and over         122895.0  \n",
       "4455           All Ages         463195.0  \n",
       "4456         0-17 years            609.0  \n",
       "4457        18-29 years           3933.0  \n",
       "4458        30-39 years          11575.0  \n",
       "4459        40-49 years          26213.0  \n",
       "4460        50-64 years         103174.0  "
      ]
     },
     "execution_count": 19,
     "metadata": {},
     "output_type": "execute_result"
    }
   ],
   "source": [
    "# Filter data to include only Place of Death: Total - All Places of Death Data\n",
    "include=['Total - All Places of Death']\n",
    "covid_place=covid_group_year.loc[covid_group_year['Place of Death'].isin(include)]\n",
    "covid_place.head(15)"
   ]
  },
  {
   "cell_type": "code",
   "execution_count": 20,
   "id": "bf38d620",
   "metadata": {},
   "outputs": [
    {
     "data": {
      "text/html": [
       "<div>\n",
       "<style scoped>\n",
       "    .dataframe tbody tr th:only-of-type {\n",
       "        vertical-align: middle;\n",
       "    }\n",
       "\n",
       "    .dataframe tbody tr th {\n",
       "        vertical-align: top;\n",
       "    }\n",
       "\n",
       "    .dataframe thead th {\n",
       "        text-align: right;\n",
       "    }\n",
       "</style>\n",
       "<table border=\"1\" class=\"dataframe\">\n",
       "  <thead>\n",
       "    <tr style=\"text-align: right;\">\n",
       "      <th></th>\n",
       "      <th>Group By</th>\n",
       "      <th>Year</th>\n",
       "      <th>Month</th>\n",
       "      <th>State</th>\n",
       "      <th>Place of Death</th>\n",
       "      <th>Age Group</th>\n",
       "      <th>COVID-19 Deaths</th>\n",
       "    </tr>\n",
       "  </thead>\n",
       "  <tbody>\n",
       "    <tr>\n",
       "      <th>4374</th>\n",
       "      <td>By Year</td>\n",
       "      <td>2020.0</td>\n",
       "      <td>NaN</td>\n",
       "      <td>United States</td>\n",
       "      <td>Total - All Places of Death</td>\n",
       "      <td>All Ages</td>\n",
       "      <td>385665.0</td>\n",
       "    </tr>\n",
       "    <tr>\n",
       "      <th>4455</th>\n",
       "      <td>By Year</td>\n",
       "      <td>2021.0</td>\n",
       "      <td>NaN</td>\n",
       "      <td>United States</td>\n",
       "      <td>Total - All Places of Death</td>\n",
       "      <td>All Ages</td>\n",
       "      <td>463195.0</td>\n",
       "    </tr>\n",
       "    <tr>\n",
       "      <th>4536</th>\n",
       "      <td>By Year</td>\n",
       "      <td>2022.0</td>\n",
       "      <td>NaN</td>\n",
       "      <td>United States</td>\n",
       "      <td>Total - All Places of Death</td>\n",
       "      <td>All Ages</td>\n",
       "      <td>223416.0</td>\n",
       "    </tr>\n",
       "    <tr>\n",
       "      <th>4617</th>\n",
       "      <td>By Year</td>\n",
       "      <td>2020.0</td>\n",
       "      <td>NaN</td>\n",
       "      <td>Alabama</td>\n",
       "      <td>Total - All Places of Death</td>\n",
       "      <td>All Ages</td>\n",
       "      <td>6706.0</td>\n",
       "    </tr>\n",
       "    <tr>\n",
       "      <th>4698</th>\n",
       "      <td>By Year</td>\n",
       "      <td>2021.0</td>\n",
       "      <td>NaN</td>\n",
       "      <td>Alabama</td>\n",
       "      <td>Total - All Places of Death</td>\n",
       "      <td>All Ages</td>\n",
       "      <td>9719.0</td>\n",
       "    </tr>\n",
       "    <tr>\n",
       "      <th>4779</th>\n",
       "      <td>By Year</td>\n",
       "      <td>2022.0</td>\n",
       "      <td>NaN</td>\n",
       "      <td>Alabama</td>\n",
       "      <td>Total - All Places of Death</td>\n",
       "      <td>All Ages</td>\n",
       "      <td>3947.0</td>\n",
       "    </tr>\n",
       "    <tr>\n",
       "      <th>4860</th>\n",
       "      <td>By Year</td>\n",
       "      <td>2020.0</td>\n",
       "      <td>NaN</td>\n",
       "      <td>Alaska</td>\n",
       "      <td>Total - All Places of Death</td>\n",
       "      <td>All Ages</td>\n",
       "      <td>254.0</td>\n",
       "    </tr>\n",
       "    <tr>\n",
       "      <th>4941</th>\n",
       "      <td>By Year</td>\n",
       "      <td>2021.0</td>\n",
       "      <td>NaN</td>\n",
       "      <td>Alaska</td>\n",
       "      <td>Total - All Places of Death</td>\n",
       "      <td>All Ages</td>\n",
       "      <td>839.0</td>\n",
       "    </tr>\n",
       "    <tr>\n",
       "      <th>5022</th>\n",
       "      <td>By Year</td>\n",
       "      <td>2022.0</td>\n",
       "      <td>NaN</td>\n",
       "      <td>Alaska</td>\n",
       "      <td>Total - All Places of Death</td>\n",
       "      <td>All Ages</td>\n",
       "      <td>311.0</td>\n",
       "    </tr>\n",
       "    <tr>\n",
       "      <th>5103</th>\n",
       "      <td>By Year</td>\n",
       "      <td>2020.0</td>\n",
       "      <td>NaN</td>\n",
       "      <td>Arizona</td>\n",
       "      <td>Total - All Places of Death</td>\n",
       "      <td>All Ages</td>\n",
       "      <td>9321.0</td>\n",
       "    </tr>\n",
       "    <tr>\n",
       "      <th>5184</th>\n",
       "      <td>By Year</td>\n",
       "      <td>2021.0</td>\n",
       "      <td>NaN</td>\n",
       "      <td>Arizona</td>\n",
       "      <td>Total - All Places of Death</td>\n",
       "      <td>All Ages</td>\n",
       "      <td>14060.0</td>\n",
       "    </tr>\n",
       "    <tr>\n",
       "      <th>5265</th>\n",
       "      <td>By Year</td>\n",
       "      <td>2022.0</td>\n",
       "      <td>NaN</td>\n",
       "      <td>Arizona</td>\n",
       "      <td>Total - All Places of Death</td>\n",
       "      <td>All Ages</td>\n",
       "      <td>5172.0</td>\n",
       "    </tr>\n",
       "    <tr>\n",
       "      <th>5346</th>\n",
       "      <td>By Year</td>\n",
       "      <td>2020.0</td>\n",
       "      <td>NaN</td>\n",
       "      <td>Arkansas</td>\n",
       "      <td>Total - All Places of Death</td>\n",
       "      <td>All Ages</td>\n",
       "      <td>4027.0</td>\n",
       "    </tr>\n",
       "    <tr>\n",
       "      <th>5427</th>\n",
       "      <td>By Year</td>\n",
       "      <td>2021.0</td>\n",
       "      <td>NaN</td>\n",
       "      <td>Arkansas</td>\n",
       "      <td>Total - All Places of Death</td>\n",
       "      <td>All Ages</td>\n",
       "      <td>5336.0</td>\n",
       "    </tr>\n",
       "    <tr>\n",
       "      <th>5508</th>\n",
       "      <td>By Year</td>\n",
       "      <td>2022.0</td>\n",
       "      <td>NaN</td>\n",
       "      <td>Arkansas</td>\n",
       "      <td>Total - All Places of Death</td>\n",
       "      <td>All Ages</td>\n",
       "      <td>2558.0</td>\n",
       "    </tr>\n",
       "  </tbody>\n",
       "</table>\n",
       "</div>"
      ],
      "text/plain": [
       "     Group By    Year  Month          State               Place of Death  \\\n",
       "4374  By Year  2020.0    NaN  United States  Total - All Places of Death   \n",
       "4455  By Year  2021.0    NaN  United States  Total - All Places of Death   \n",
       "4536  By Year  2022.0    NaN  United States  Total - All Places of Death   \n",
       "4617  By Year  2020.0    NaN        Alabama  Total - All Places of Death   \n",
       "4698  By Year  2021.0    NaN        Alabama  Total - All Places of Death   \n",
       "4779  By Year  2022.0    NaN        Alabama  Total - All Places of Death   \n",
       "4860  By Year  2020.0    NaN         Alaska  Total - All Places of Death   \n",
       "4941  By Year  2021.0    NaN         Alaska  Total - All Places of Death   \n",
       "5022  By Year  2022.0    NaN         Alaska  Total - All Places of Death   \n",
       "5103  By Year  2020.0    NaN        Arizona  Total - All Places of Death   \n",
       "5184  By Year  2021.0    NaN        Arizona  Total - All Places of Death   \n",
       "5265  By Year  2022.0    NaN        Arizona  Total - All Places of Death   \n",
       "5346  By Year  2020.0    NaN       Arkansas  Total - All Places of Death   \n",
       "5427  By Year  2021.0    NaN       Arkansas  Total - All Places of Death   \n",
       "5508  By Year  2022.0    NaN       Arkansas  Total - All Places of Death   \n",
       "\n",
       "     Age Group  COVID-19 Deaths  \n",
       "4374  All Ages         385665.0  \n",
       "4455  All Ages         463195.0  \n",
       "4536  All Ages         223416.0  \n",
       "4617  All Ages           6706.0  \n",
       "4698  All Ages           9719.0  \n",
       "4779  All Ages           3947.0  \n",
       "4860  All Ages            254.0  \n",
       "4941  All Ages            839.0  \n",
       "5022  All Ages            311.0  \n",
       "5103  All Ages           9321.0  \n",
       "5184  All Ages          14060.0  \n",
       "5265  All Ages           5172.0  \n",
       "5346  All Ages           4027.0  \n",
       "5427  All Ages           5336.0  \n",
       "5508  All Ages           2558.0  "
      ]
     },
     "execution_count": 20,
     "metadata": {},
     "output_type": "execute_result"
    }
   ],
   "source": [
    "# Filter data to include only Age group: All Ages\n",
    "include=['All Ages']\n",
    "covid_all=covid_place.loc[covid_place['Age Group'].isin(include)]\n",
    "covid_all.head(15)"
   ]
  },
  {
   "cell_type": "code",
   "execution_count": 21,
   "id": "617cb8ee",
   "metadata": {},
   "outputs": [],
   "source": [
    "# Drop Columns no longer needed after filtering\n",
    "filtered=covid_all.drop(columns=['Month','Place of Death','Age Group'])"
   ]
  },
  {
   "cell_type": "markdown",
   "id": "3298da21",
   "metadata": {},
   "source": [
    "# Explore Cleaned Data"
   ]
  },
  {
   "cell_type": "code",
   "execution_count": 22,
   "id": "2c2d9296",
   "metadata": {},
   "outputs": [
    {
     "data": {
      "text/html": [
       "<div>\n",
       "<style scoped>\n",
       "    .dataframe tbody tr th:only-of-type {\n",
       "        vertical-align: middle;\n",
       "    }\n",
       "\n",
       "    .dataframe tbody tr th {\n",
       "        vertical-align: top;\n",
       "    }\n",
       "\n",
       "    .dataframe thead th {\n",
       "        text-align: right;\n",
       "    }\n",
       "</style>\n",
       "<table border=\"1\" class=\"dataframe\">\n",
       "  <thead>\n",
       "    <tr style=\"text-align: right;\">\n",
       "      <th></th>\n",
       "      <th>Group By</th>\n",
       "      <th>Year</th>\n",
       "      <th>State</th>\n",
       "      <th>COVID-19 Deaths</th>\n",
       "    </tr>\n",
       "  </thead>\n",
       "  <tbody>\n",
       "    <tr>\n",
       "      <th>4374</th>\n",
       "      <td>By Year</td>\n",
       "      <td>2020.0</td>\n",
       "      <td>United States</td>\n",
       "      <td>385665.0</td>\n",
       "    </tr>\n",
       "    <tr>\n",
       "      <th>4455</th>\n",
       "      <td>By Year</td>\n",
       "      <td>2021.0</td>\n",
       "      <td>United States</td>\n",
       "      <td>463195.0</td>\n",
       "    </tr>\n",
       "    <tr>\n",
       "      <th>4536</th>\n",
       "      <td>By Year</td>\n",
       "      <td>2022.0</td>\n",
       "      <td>United States</td>\n",
       "      <td>223416.0</td>\n",
       "    </tr>\n",
       "    <tr>\n",
       "      <th>4617</th>\n",
       "      <td>By Year</td>\n",
       "      <td>2020.0</td>\n",
       "      <td>Alabama</td>\n",
       "      <td>6706.0</td>\n",
       "    </tr>\n",
       "    <tr>\n",
       "      <th>4698</th>\n",
       "      <td>By Year</td>\n",
       "      <td>2021.0</td>\n",
       "      <td>Alabama</td>\n",
       "      <td>9719.0</td>\n",
       "    </tr>\n",
       "  </tbody>\n",
       "</table>\n",
       "</div>"
      ],
      "text/plain": [
       "     Group By    Year          State  COVID-19 Deaths\n",
       "4374  By Year  2020.0  United States         385665.0\n",
       "4455  By Year  2021.0  United States         463195.0\n",
       "4536  By Year  2022.0  United States         223416.0\n",
       "4617  By Year  2020.0        Alabama           6706.0\n",
       "4698  By Year  2021.0        Alabama           9719.0"
      ]
     },
     "execution_count": 22,
     "metadata": {},
     "output_type": "execute_result"
    }
   ],
   "source": [
    "filtered.head()"
   ]
  },
  {
   "cell_type": "code",
   "execution_count": 23,
   "id": "e5504917",
   "metadata": {},
   "outputs": [
    {
     "name": "stdout",
     "output_type": "stream",
     "text": [
      "<class 'pandas.core.frame.DataFrame'>\n",
      "Int64Index: 156 entries, 4374 to 17172\n",
      "Data columns (total 4 columns):\n",
      " #   Column           Non-Null Count  Dtype  \n",
      "---  ------           --------------  -----  \n",
      " 0   Group By         156 non-null    object \n",
      " 1   Year             156 non-null    float64\n",
      " 2   State            156 non-null    object \n",
      " 3   COVID-19 Deaths  156 non-null    float64\n",
      "dtypes: float64(2), object(2)\n",
      "memory usage: 6.1+ KB\n"
     ]
    }
   ],
   "source": [
    "filtered.info()"
   ]
  },
  {
   "cell_type": "code",
   "execution_count": 24,
   "id": "bf2fc5b2",
   "metadata": {},
   "outputs": [
    {
     "data": {
      "text/html": [
       "<div>\n",
       "<style scoped>\n",
       "    .dataframe tbody tr th:only-of-type {\n",
       "        vertical-align: middle;\n",
       "    }\n",
       "\n",
       "    .dataframe tbody tr th {\n",
       "        vertical-align: top;\n",
       "    }\n",
       "\n",
       "    .dataframe thead th {\n",
       "        text-align: right;\n",
       "    }\n",
       "</style>\n",
       "<table border=\"1\" class=\"dataframe\">\n",
       "  <thead>\n",
       "    <tr style=\"text-align: right;\">\n",
       "      <th></th>\n",
       "      <th>Year</th>\n",
       "      <th>COVID-19 Deaths</th>\n",
       "    </tr>\n",
       "  </thead>\n",
       "  <tbody>\n",
       "    <tr>\n",
       "      <th>count</th>\n",
       "      <td>156.000000</td>\n",
       "      <td>156.000000</td>\n",
       "    </tr>\n",
       "    <tr>\n",
       "      <th>mean</th>\n",
       "      <td>2021.000000</td>\n",
       "      <td>13512.935897</td>\n",
       "    </tr>\n",
       "    <tr>\n",
       "      <th>std</th>\n",
       "      <td>0.819126</td>\n",
       "      <td>50912.416640</td>\n",
       "    </tr>\n",
       "    <tr>\n",
       "      <th>min</th>\n",
       "      <td>2020.000000</td>\n",
       "      <td>145.000000</td>\n",
       "    </tr>\n",
       "    <tr>\n",
       "      <th>25%</th>\n",
       "      <td>2020.000000</td>\n",
       "      <td>1645.750000</td>\n",
       "    </tr>\n",
       "    <tr>\n",
       "      <th>50%</th>\n",
       "      <td>2021.000000</td>\n",
       "      <td>4694.000000</td>\n",
       "    </tr>\n",
       "    <tr>\n",
       "      <th>75%</th>\n",
       "      <td>2022.000000</td>\n",
       "      <td>8828.250000</td>\n",
       "    </tr>\n",
       "    <tr>\n",
       "      <th>max</th>\n",
       "      <td>2022.000000</td>\n",
       "      <td>463195.000000</td>\n",
       "    </tr>\n",
       "  </tbody>\n",
       "</table>\n",
       "</div>"
      ],
      "text/plain": [
       "              Year  COVID-19 Deaths\n",
       "count   156.000000       156.000000\n",
       "mean   2021.000000     13512.935897\n",
       "std       0.819126     50912.416640\n",
       "min    2020.000000       145.000000\n",
       "25%    2020.000000      1645.750000\n",
       "50%    2021.000000      4694.000000\n",
       "75%    2022.000000      8828.250000\n",
       "max    2022.000000    463195.000000"
      ]
     },
     "execution_count": 24,
     "metadata": {},
     "output_type": "execute_result"
    }
   ],
   "source": [
    "filtered.describe()"
   ]
  },
  {
   "cell_type": "code",
   "execution_count": 25,
   "id": "f94e961d",
   "metadata": {},
   "outputs": [
    {
     "data": {
      "text/plain": [
       "Index(['Group By', 'Year', 'State', 'COVID-19 Deaths'], dtype='object')"
      ]
     },
     "execution_count": 25,
     "metadata": {},
     "output_type": "execute_result"
    }
   ],
   "source": [
    "filtered.columns"
   ]
  },
  {
   "cell_type": "code",
   "execution_count": 26,
   "id": "1a09be68",
   "metadata": {},
   "outputs": [
    {
     "data": {
      "text/plain": [
       "(156, 4)"
      ]
     },
     "execution_count": 26,
     "metadata": {},
     "output_type": "execute_result"
    }
   ],
   "source": [
    "filtered.shape"
   ]
  },
  {
   "cell_type": "markdown",
   "id": "b332ee0e",
   "metadata": {},
   "source": [
    "# Frequency Counts"
   ]
  },
  {
   "cell_type": "code",
   "execution_count": 27,
   "id": "ba5e3cb8",
   "metadata": {},
   "outputs": [
    {
     "data": {
      "text/plain": [
       "0    2020.0\n",
       "1    2021.0\n",
       "2    2022.0\n",
       "Name: Year, dtype: float64"
      ]
     },
     "execution_count": 27,
     "metadata": {},
     "output_type": "execute_result"
    }
   ],
   "source": [
    "filtered['Year'].mode( )"
   ]
  },
  {
   "cell_type": "code",
   "execution_count": 28,
   "id": "fa5aff36",
   "metadata": {},
   "outputs": [
    {
     "data": {
      "text/plain": [
       "0    308.0\n",
       "Name: COVID-19 Deaths, dtype: float64"
      ]
     },
     "execution_count": 28,
     "metadata": {},
     "output_type": "execute_result"
    }
   ],
   "source": [
    "filtered['COVID-19 Deaths'].mode()"
   ]
  },
  {
   "cell_type": "code",
   "execution_count": 29,
   "id": "536f44ed",
   "metadata": {},
   "outputs": [
    {
     "data": {
      "text/plain": [
       "4694.0"
      ]
     },
     "execution_count": 29,
     "metadata": {},
     "output_type": "execute_result"
    }
   ],
   "source": [
    "filtered['COVID-19 Deaths'].median()"
   ]
  },
  {
   "cell_type": "code",
   "execution_count": 30,
   "id": "2d9f9726",
   "metadata": {},
   "outputs": [
    {
     "data": {
      "text/plain": [
       "2020.0    52\n",
       "2021.0    52\n",
       "2022.0    52\n",
       "Name: Year, dtype: int64"
      ]
     },
     "execution_count": 30,
     "metadata": {},
     "output_type": "execute_result"
    }
   ],
   "source": [
    "filtered['Year'].value_counts()"
   ]
  },
  {
   "cell_type": "code",
   "execution_count": 31,
   "id": "ed7d105f",
   "metadata": {},
   "outputs": [
    {
     "data": {
      "text/plain": [
       "United States           3159\n",
       "Alabama                 3159\n",
       "Nebraska                3159\n",
       "Nevada                  3159\n",
       "New Hampshire           3159\n",
       "New Jersey              3159\n",
       "New Mexico              3159\n",
       "New York                3159\n",
       "North Carolina          3159\n",
       "North Dakota            3159\n",
       "Ohio                    3159\n",
       "Oklahoma                3159\n",
       "Oregon                  3159\n",
       "Pennsylvania            3159\n",
       "Rhode Island            3159\n",
       "South Carolina          3159\n",
       "South Dakota            3159\n",
       "Tennessee               3159\n",
       "Texas                   3159\n",
       "Utah                    3159\n",
       "Vermont                 3159\n",
       "Virginia                3159\n",
       "Washington              3159\n",
       "West Virginia           3159\n",
       "Wisconsin               3159\n",
       "Montana                 3159\n",
       "Missouri                3159\n",
       "Mississippi             3159\n",
       "Hawaii                  3159\n",
       "Alaska                  3159\n",
       "Arizona                 3159\n",
       "Arkansas                3159\n",
       "California              3159\n",
       "Colorado                3159\n",
       "Connecticut             3159\n",
       "Delaware                3159\n",
       "District of Columbia    3159\n",
       "Florida                 3159\n",
       "Georgia                 3159\n",
       "Idaho                   3159\n",
       "Minnesota               3159\n",
       "Illinois                3159\n",
       "Indiana                 3159\n",
       "Iowa                    3159\n",
       "Kansas                  3159\n",
       "Kentucky                3159\n",
       "Louisiana               3159\n",
       "Maine                   3159\n",
       "Maryland                3159\n",
       "Massachusetts           3159\n",
       "Michigan                3159\n",
       "Wyoming                 3159\n",
       "Name: State, dtype: int64"
      ]
     },
     "execution_count": 31,
     "metadata": {},
     "output_type": "execute_result"
    }
   ],
   "source": [
    "covid['State'].value_counts()"
   ]
  },
  {
   "cell_type": "code",
   "execution_count": 32,
   "id": "72e20029",
   "metadata": {},
   "outputs": [
    {
     "data": {
      "text/plain": [
       "United States           3\n",
       "Alabama                 3\n",
       "Nebraska                3\n",
       "Nevada                  3\n",
       "New Hampshire           3\n",
       "New Jersey              3\n",
       "New Mexico              3\n",
       "New York                3\n",
       "North Carolina          3\n",
       "North Dakota            3\n",
       "Ohio                    3\n",
       "Oklahoma                3\n",
       "Oregon                  3\n",
       "Pennsylvania            3\n",
       "Rhode Island            3\n",
       "South Carolina          3\n",
       "South Dakota            3\n",
       "Tennessee               3\n",
       "Texas                   3\n",
       "Utah                    3\n",
       "Vermont                 3\n",
       "Virginia                3\n",
       "Washington              3\n",
       "West Virginia           3\n",
       "Wisconsin               3\n",
       "Montana                 3\n",
       "Missouri                3\n",
       "Mississippi             3\n",
       "Hawaii                  3\n",
       "Alaska                  3\n",
       "Arizona                 3\n",
       "Arkansas                3\n",
       "California              3\n",
       "Colorado                3\n",
       "Connecticut             3\n",
       "Delaware                3\n",
       "District of Columbia    3\n",
       "Florida                 3\n",
       "Georgia                 3\n",
       "Idaho                   3\n",
       "Minnesota               3\n",
       "Illinois                3\n",
       "Indiana                 3\n",
       "Iowa                    3\n",
       "Kansas                  3\n",
       "Kentucky                3\n",
       "Louisiana               3\n",
       "Maine                   3\n",
       "Maryland                3\n",
       "Massachusetts           3\n",
       "Michigan                3\n",
       "Wyoming                 3\n",
       "Name: State, dtype: int64"
      ]
     },
     "execution_count": 32,
     "metadata": {},
     "output_type": "execute_result"
    }
   ],
   "source": [
    "filtered['State'].value_counts()"
   ]
  },
  {
   "cell_type": "code",
   "execution_count": 33,
   "id": "a02e9f99",
   "metadata": {},
   "outputs": [
    {
     "data": {
      "text/plain": [
       "Total - All Places of Death                         18252\n",
       "Healthcare setting, inpatient                       18252\n",
       "Healthcare setting, outpatient or emergency room    18252\n",
       "Healthcare setting, dead on arrival                 18252\n",
       "Decedent's home                                     18252\n",
       "Hospice facility                                    18252\n",
       "Nursing home/long term care facility                18252\n",
       "Other                                               18252\n",
       "Place of death unknown                              18252\n",
       "Name: Place of Death, dtype: int64"
      ]
     },
     "execution_count": 33,
     "metadata": {},
     "output_type": "execute_result"
    }
   ],
   "source": [
    "covid['Place of Death'].value_counts()"
   ]
  },
  {
   "cell_type": "code",
   "execution_count": 34,
   "id": "49ad6ab3",
   "metadata": {},
   "outputs": [
    {
     "data": {
      "text/plain": [
       "All Ages             18252\n",
       "0-17 years           18252\n",
       "18-29 years          18252\n",
       "30-39 years          18252\n",
       "40-49 years          18252\n",
       "50-64 years          18252\n",
       "65-74 years          18252\n",
       "75-84 years          18252\n",
       "85 years and over    18252\n",
       "Name: Age Group, dtype: int64"
      ]
     },
     "execution_count": 34,
     "metadata": {},
     "output_type": "execute_result"
    }
   ],
   "source": [
    "covid['Age Group'].value_counts()"
   ]
  },
  {
   "cell_type": "code",
   "execution_count": 35,
   "id": "08fc53e2",
   "metadata": {},
   "outputs": [
    {
     "data": {
      "text/plain": [
       "0.0        86033\n",
       "10.0        1317\n",
       "11.0        1220\n",
       "12.0        1114\n",
       "13.0         976\n",
       "           ...  \n",
       "3787.0         1\n",
       "2446.0         1\n",
       "15323.0        1\n",
       "6648.0         1\n",
       "1041.0         1\n",
       "Name: COVID-19 Deaths, Length: 3118, dtype: int64"
      ]
     },
     "execution_count": 35,
     "metadata": {},
     "output_type": "execute_result"
    }
   ],
   "source": [
    "covid['COVID-19 Deaths'].value_counts()"
   ]
  },
  {
   "cell_type": "code",
   "execution_count": 36,
   "id": "bdf395ee",
   "metadata": {},
   "outputs": [
    {
     "data": {
      "text/plain": [
       "308.0       2\n",
       "385665.0    1\n",
       "3704.0      1\n",
       "16195.0     1\n",
       "14799.0     1\n",
       "           ..\n",
       "3806.0      1\n",
       "2180.0      1\n",
       "4619.0      1\n",
       "8694.0      1\n",
       "963.0       1\n",
       "Name: COVID-19 Deaths, Length: 155, dtype: int64"
      ]
     },
     "execution_count": 36,
     "metadata": {},
     "output_type": "execute_result"
    }
   ],
   "source": [
    "filtered['COVID-19 Deaths'].value_counts()"
   ]
  },
  {
   "cell_type": "code",
   "execution_count": 37,
   "id": "bc1cddf2",
   "metadata": {},
   "outputs": [
    {
     "data": {
      "text/plain": [
       "Group By           0\n",
       "Year               0\n",
       "State              0\n",
       "COVID-19 Deaths    0\n",
       "dtype: int64"
      ]
     },
     "execution_count": 37,
     "metadata": {},
     "output_type": "execute_result"
    }
   ],
   "source": [
    "# Check for missing values\n",
    "filtered.isnull().sum()"
   ]
  },
  {
   "cell_type": "markdown",
   "id": "7b6d1520",
   "metadata": {},
   "source": [
    "# Export Data"
   ]
  },
  {
   "cell_type": "code",
   "execution_count": 39,
   "id": "634fbd0b",
   "metadata": {},
   "outputs": [],
   "source": [
    "# Export Cleaned dataframe\n",
    "covid.to_csv(r\"C:\\Users\\miche\\DA_Obesity and COVID19\\02 Data\\Prepared Data\\02 COVID Deaths_clean.csv\")\n",
    "filtered.to_csv(r\"C:\\Users\\miche\\DA_Obesity and COVID19\\02 Data\\Prepared Data\\02 COVID Deaths_FILTERED.csv\")"
   ]
  },
  {
   "cell_type": "markdown",
   "id": "745a5073",
   "metadata": {},
   "source": [
    "#### Keeping df=covid to be able to manipulate differently later on."
   ]
  },
  {
   "cell_type": "code",
   "execution_count": null,
   "id": "2a0b024f",
   "metadata": {},
   "outputs": [],
   "source": []
  }
 ],
 "metadata": {
  "kernelspec": {
   "display_name": "Python 3 (ipykernel)",
   "language": "python",
   "name": "python3"
  },
  "language_info": {
   "codemirror_mode": {
    "name": "ipython",
    "version": 3
   },
   "file_extension": ".py",
   "mimetype": "text/x-python",
   "name": "python",
   "nbconvert_exporter": "python",
   "pygments_lexer": "ipython3",
   "version": "3.9.13"
  }
 },
 "nbformat": 4,
 "nbformat_minor": 5
}
